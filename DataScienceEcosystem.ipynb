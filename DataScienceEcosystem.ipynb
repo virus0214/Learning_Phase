{
 "cells": [
  {
   "cell_type": "markdown",
   "id": "46671c1f-e782-4471-8783-fd0f6e662928",
   "metadata": {},
   "source": [
    "# Data Science Tools and Ecosystem\n",
    "In this notebook, Data Science Tools and Ecosystem are summarized."
   ]
  },
  {
   "cell_type": "markdown",
   "id": "13bb1489-418e-40e7-bf80-0b988330d451",
   "metadata": {},
   "source": [
    "## Some of the popular languages that Data Scientists use are:\n",
    "1. Python\n",
    "2. R\n",
    "3. SQL\n",
    "4. Scala"
   ]
  },
  {
   "cell_type": "markdown",
   "id": "14560e7e-e1b6-4cdd-9c07-c5cd38b0bfe4",
   "metadata": {},
   "source": [
    "**Objectives:**\n",
    "+ List popular languages for Data Science\n",
    "+ libraries used by Data Scientists\n",
    "+ evaluating arithmetic expressions\n",
    "+ Data Science Tools"
   ]
  },
  {
   "cell_type": "markdown",
   "id": "183a4644-02d5-428e-b45a-962525b8a290",
   "metadata": {},
   "source": [
    "## Some of the commonly used libraries used by Data Scientists include:\n",
    "1. Numpy\n",
    "2. TensorFlow\n",
    "3. Matplotlib"
   ]
  },
  {
   "cell_type": "markdown",
   "id": "28661102-a1ec-4b00-bfd6-4ab3070c54a0",
   "metadata": {},
   "source": [
    "|Data Science Tools|\n",
    "|------------------|\n",
    "|PyCharm|\n",
    "|Jupyter Notebook|\n",
    "|VS Code|"
   ]
  },
  {
   "cell_type": "markdown",
   "id": "0737966e-8cfd-4f1b-86fb-a7e0702821cf",
   "metadata": {},
   "source": [
    "### Below are a few examples of evaluating arithmetic expressions in Python"
   ]
  },
  {
   "cell_type": "code",
   "execution_count": null,
   "id": "b3314eb6-c92d-434d-8362-2db6921bacc6",
   "metadata": {},
   "outputs": [],
   "source": [
    "(3*4)+5\n",
    "<!-- This a simple arithmetic expression to mutiply then add integers -->"
   ]
  },
  {
   "cell_type": "code",
   "execution_count": null,
   "id": "83d19eef-250f-4539-b5c1-b6aa3b355e2e",
   "metadata": {},
   "outputs": [],
   "source": [
    "Minutes = 200\n",
    "Hours = Minutes / 60\n",
    "print(Hours)\n",
    "<!--This will convert 200 minutes to hours by diving by 60-->"
   ]
  },
  {
   "cell_type": "markdown",
   "id": "81d71ca7-1ec4-4104-80da-df669da1bcbc",
   "metadata": {},
   "source": [
    "## Author\n",
    "Prakash\n"
   ]
  }
 ],
 "metadata": {
  "kernelspec": {
   "display_name": "Python 3 (ipykernel)",
   "language": "python",
   "name": "python3"
  },
  "language_info": {
   "codemirror_mode": {
    "name": "ipython",
    "version": 3
   },
   "file_extension": ".py",
   "mimetype": "text/x-python",
   "name": "python",
   "nbconvert_exporter": "python",
   "pygments_lexer": "ipython3",
   "version": "3.12.7"
  }
 },
 "nbformat": 4,
 "nbformat_minor": 5
}
